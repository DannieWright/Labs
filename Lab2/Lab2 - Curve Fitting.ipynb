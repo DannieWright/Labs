{
 "cells": [
  {
   "cell_type": "markdown",
   "metadata": {},
   "source": [
    "# Lab 2 - Intro to Curve Fitting (Scipy/Numpy) and Plotting (Matplotlib)\n",
    "\n",
    "##  The Photoelectric Effect and Projectile Motion\n",
    "------------------------------------------------------------------------------------------------\n",
    "\n",
    "### GitHub:\n",
    "\n",
    "* Fork the Lab repository to your personal GitHub page.\n",
    "* Sign into GitHub desktop (using options in the gearwheel) - open the Git Bash shell\n",
    "* Clone/download the repository to your own directory\n",
    "* Make a new branch, call it Version-0, this is where you will do your work - I am just learning how important this is!!!\n",
    "* Save your work to the local machine regularly.\n",
    "* Commit your work on this branch to GitHub regularly - you don't have to wait until the end of class.\n",
    "* Remember to make additional branches (Version-1 and Version-2) following each pull request (see below).\n",
    "\n",
    "### Grading: \n",
    "Recall we will be doing the cyclic grading cycle for this assignment.  See the complete syllabus - posted on Moodle - some detailed notes on grading and correcting your work.\n",
    "\n",
    "Do your work in this file, so it is easy for me to find/grade.  However, there are good reasons to use multiple files in traditional coding projects, so if you have a good reason to want to make a new file, please talk to me about how to make that work.\n",
    "\n",
    "#### Version-0: \n",
    "Before you leave lab today, commit your changes to GitHub, and open a pull request, comparing your forked Version-0 branch back to my original repository.  That's all.\n",
    "\n",
    "#### Version-1: \n",
    "By Monday 9:15am, clean up any unfinished details.  \n",
    "   * Every code should be well documented with comments.\n",
    "   * Every graph should be well labeled.  If there is more than one data set or curve, add a legend.\n",
    "   * Describe each graph with a short paragraph.  What is data plotted, why is it interesting, what model fits that data, is this the model you expect?  Give a written scientific description in complete sentences.\n",
    "   * Open a pull request on GitHub comparing your forked Version-1 branch back to my original repository.\n",
    "\n",
    "#### Version-2*: \n",
    "After class on Monday, I will post my solution.  \n",
    "   * Compare our solutions, and look for places you could improve your work \n",
    "     * Are your calculations correct?\n",
    "     * Did you understand (and describe) the physics correctly? \n",
    "     * Did you forget anything?\n",
    "   * Make improvements and comments about your changes.  \n",
    "\n",
    "\\*I called this the Final Version in the syllabus.   "
   ]
  },
  {
   "cell_type": "code",
   "execution_count": 1,
   "metadata": {
    "collapsed": true
   },
   "outputs": [],
   "source": [
    "#how to load in plotting to a Jupyter Notebook\n",
    "import matplotlib.pyplot as plt\n",
    "import numpy as np\n",
    "%matplotlib inline"
   ]
  },
  {
   "cell_type": "code",
   "execution_count": 2,
   "metadata": {},
   "outputs": [
    {
     "name": "stdout",
     "output_type": "stream",
     "text": [
      "1.2246467991473532e-16\n",
      "[ 3.14159265  3.14159265  3.14159265  3.14159265]\n",
      "[  1.22464680e-16   1.22464680e-16   1.22464680e-16   1.22464680e-16]\n"
     ]
    }
   ],
   "source": [
    "#A note on functions and array arithmetic - \n",
    "#several of you have noticed problems using the math module functions on numpy arrays.\n",
    "#To avoid this problem, use the numpy versions of the functions.  \n",
    "#For example:\n",
    "import math\n",
    "x=math.pi\n",
    "print(math.sin(x))  #works great - notice what you get - what should you get ? (this is a preview for Ch 4)\n",
    "\n",
    "x_array = math.pi*np.ones(4) #works fine\n",
    "print(x_array)                #works fine\n",
    "#print(math.sin(x_array))     #error\n",
    "print(np.sin(x_array))        #works fine"
   ]
  },
  {
   "cell_type": "markdown",
   "metadata": {},
   "source": [
    "## Part 1: Fitting Millikan's Data w/ Least Squares Method \n",
    "\n",
    "Discuss your algorithm with your lab partner.  Since you'll be writing your own code today, you are welcome to disagree on the details.  On your own computer, code it up, following my suggestions from the pre-lab.  As you produce results, use markdown cells to present and describe your work.  *For example add a markdown cell to: describe the plotted data, comment on how good the fit appears, and how it relates to Einstein's model, the percent difference, etc.*\n",
    "\n",
    "### Your solution to Part 1:\n",
    "------------------------------------------------------------------------------------------------------------------"
   ]
  },
  {
   "cell_type": "markdown",
   "metadata": {},
   "source": [
    "## a)\n",
    "Read in the data and plot the values"
   ]
  },
  {
   "cell_type": "code",
   "execution_count": 3,
   "metadata": {
    "collapsed": true
   },
   "outputs": [],
   "source": [
    "from numpy import loadtxt\n",
    "from pylab import plot, show, xlabel, ylabel\n",
    "\n",
    "#file name and axis label, change based upon file in use\n",
    "fileName = \"millikan.txt\"\n",
    "xLabel = \"Frequency (hz)\"\n",
    "yLabel = \"Voltage (V)\"\n",
    "\n",
    "#data type of the file, change based upon file in use\n",
    "fileDataType = float\n",
    "\n",
    "#load the values from the given file to a variable using the given data type\n",
    "data = loadtxt (fileName, fileDataType)\n",
    "\n",
    "#assuming a text file of two columns and unknown number of rows, initializes first column as x-value and second as y-values\n",
    "xValues = data[:, 0]\n",
    "yValues = data[:, 1]\n"
   ]
  },
  {
   "cell_type": "code",
   "execution_count": 4,
   "metadata": {},
   "outputs": [
    {
     "data": {
      "image/png": "[encoded data removed]",
      "text/plain": [
       "<matplotlib.figure.Figure at 0x7d2e630>"
      ]
     },
     "metadata": {},
     "output_type": "display_data"
    }
   ],
   "source": [
    "#plot the data\n",
    "plot (xValues, yValues, \"k.\")\n",
    "xlabel (xLabel)\n",
    "ylabel (yLabel)\n",
    "\n",
    "show ()"
   ]
  },
  {
   "cell_type": "markdown",
   "metadata": {},
   "source": [
    "This data appears to be linear, although there are not many data points to tell a lot about the data."
   ]
  },
  {
   "cell_type": "markdown",
   "metadata": {},
   "source": [
    "## b)\n",
    "Calculate Ex, Ey, Exx, and Exy  \n",
    "From them print out the slope and intercept of best fit"
   ]
  },
  {
   "cell_type": "code",
   "execution_count": 9,
   "metadata": {},
   "outputs": [
    {
     "name": "stdout",
     "output_type": "stream",
     "text": [
      "Slope 4.088227358517502e-15\n",
      "Intercept -1.73123580398135\n"
     ]
    }
   ],
   "source": [
    "from math import fsum\n",
    "\n",
    "#returns the slope of a least square's solution given E-values as defined below\n",
    "def getBestFitSlope (Ex, Ey, Exx, Exy):\n",
    "    return (Exy - Ex * Ey) / (Exx - Ex**2)\n",
    "\n",
    "#returns the intercept of a least square's solution given E-values as defined below\n",
    "def getBestFitIntercept (Ex, Ey, Exx, Exy):\n",
    "    return (Exx * Ey - Ex * Exy) / (Exx - Ex**2)\n",
    "\n",
    "def getEx (N, xValues):\n",
    "    return (1 / N) * fsum (xValues)\n",
    "\n",
    "def getEy (N, yValues):\n",
    "    return (1 / N) * fsum (yValues)\n",
    "\n",
    "def getExx (N, xValues):\n",
    "    return (1 / N) * fsum (xValues**2)\n",
    "\n",
    "def getExy (N, xValues, yValues):\n",
    "    return (1 / N) * fsum (xValues * yValues)\n",
    "\n",
    "N = len (data)\n",
    "Ex = getEx (N, xValues)\n",
    "Ey = getEy (N, yValues)\n",
    "Exx = getExx (N, xValues)\n",
    "Exy = getExy (N, xValues, yValues)\n",
    "\n",
    "slope = getBestFitSlope (Ex, Ey, Exx, Exy)\n",
    "intercept = getBestFitIntercept (Ex, Ey, Exx, Exy)\n",
    "\n",
    "print (\"Slope\", slope)\n",
    "print (\"Intercept\", intercept)"
   ]
  },
  {
   "cell_type": "markdown",
   "metadata": {},
   "source": [
    "These values seem to be correct, as I checked them with xcel's linear fit function."
   ]
  },
  {
   "cell_type": "markdown",
   "metadata": {},
   "source": [
    "## c)\n",
    "Calculate mx + c for each x-value and for the given slope and intercept values, and store these values in an array.  \n",
    "Then graph the array as a solid line on the original plot."
   ]
  },
  {
   "cell_type": "code",
   "execution_count": 6,
   "metadata": {},
   "outputs": [
    {
     "data": {
      "image/png": "[encoded data removed]",
      "text/plain": [
       "<matplotlib.figure.Figure at 0x5988908>"
      ]
     },
     "metadata": {},
     "output_type": "display_data"
    }
   ],
   "source": [
    "#returns the variation from a given x-value based upone a function's slope and intercept\n",
    "def getXVariation (slope, intercept, xValue):\n",
    "    return slope * xValue + intercept\n",
    "\n",
    "#initialize list for xVariation\n",
    "xVariation = []\n",
    "\n",
    "#fill list for xVariation\n",
    "for x in xValues:\n",
    "    xVariation.append (getXVariation (slope, intercept, x))\n",
    "\n",
    "#labels plot axes\n",
    "xlabel (xLabel)\n",
    "ylabel (yLabel)\n",
    "\n",
    "#plots the data values on same graph as xVariation values\n",
    "plot (xValues, xVariation, \"k-\")\n",
    "plot (xValues, yValues, \"k.\")\n",
    "\n",
    "show ()"
   ]
  },
  {
   "cell_type": "markdown",
   "metadata": {},
   "source": [
    "Actually fitting the data with the calculated slope helps to show how well the calculated values seem to fit the data. All of the points appear to be very close to the line."
   ]
  },
  {
   "cell_type": "markdown",
   "metadata": {},
   "source": [
    "## d)\n",
    "Calculate Plank's constant based upon the data'"
   ]
  },
  {
   "cell_type": "code",
   "execution_count": 7,
   "metadata": {},
   "outputs": [
    {
     "name": "stdout",
     "output_type": "stream",
     "text": [
      "h based upon data: 6.55007010185e-34\n",
      "% error: 1.1469836222 %\n"
     ]
    }
   ],
   "source": [
    "CHARGE_OF_ELECTRON = 1.602e-19\n",
    "PLANKS_CONSTANT = 6.62607004e-34\n",
    "\n",
    "planksConstant = []\n",
    "\n",
    "#adds all the Plank's constant values based upon the data values\n",
    "for n in range(N):\n",
    "    planksConstant.append (((yValues[n] - intercept) / xValues[n]) * CHARGE_OF_ELECTRON)\n",
    "\n",
    "#calculates the average of all the Plank's constant values\n",
    "planksConstantAvg = sum (planksConstant) / N\n",
    "\n",
    "print (\"h based upon data:\", planksConstantAvg)\n",
    "print (\"% error:\", abs (PLANKS_CONSTANT - planksConstantAvg) / PLANKS_CONSTANT * 100, \"%\")"
   ]
  },
  {
   "cell_type": "code",
   "execution_count": 8,
   "metadata": {},
   "outputs": [
    {
     "name": "stdout",
     "output_type": "stream",
     "text": [
      "h based upon data: 6.549340228345038e-34\n",
      "% error: 1.1579988015786504 %\n"
     ]
    }
   ],
   "source": [
    "#calculates Plank's constant based upon the slope value\n",
    "planksConstant = slope * CHARGE_OF_ELECTRON\n",
    "\n",
    "print (\"h based upon data:\", planksConstant)\n",
    "print (\"% error:\", abs (PLANKS_CONSTANT - planksConstant) / PLANKS_CONSTANT * 100, \"%\")"
   ]
  },
  {
   "cell_type": "markdown",
   "metadata": {},
   "source": [
    "In calculating Plank's constant I was assuming the equation V = (h / e) * v - o, where 'v' was our x-values, 'V' was our y-values, 'o' was our intercept, and 'h / e' would be our slope. This means, given the known value for 'e' we could calculate a value for 'h': (h / e) = slope."
   ]
  },
  {
   "cell_type": "markdown",
   "metadata": {},
   "source": [
    "## Part 2: Curve Fitting Tutorial:\n",
    "Open the Jupyter Notebook CurveFit.ipynb and work through the plots and exercises.  It is a very complete set of information that you should remember to consult for this and other classes.  No need to memorize all of the functions.\n",
    "\n",
    "You may want to read Part 3 (below) and jump back and forth between the tutorial and applying each step to Millikan's data.\n",
    "\n",
    "### Submit nothing for this section - However this is a dense document - ask a lot of questions and add comments to the document to help you reuse the functions as you go.  \n",
    "-----------------------------------------------------------------------------------------------"
   ]
  },
  {
   "cell_type": "markdown",
   "metadata": {},
   "source": [
    "## Part 3: Fitting Millikan's Data \n",
    "Use your new found knowledge from the Curve Fitting Tutorial to fit Millikan's Data with the various fitting routines in the tutorial.  Since it is linear data, it is a great test case to get you started.  Try three cases:\n",
    "    * polynomial fits\n",
    "    * linear regression (from the mathematical library scipy)\n",
    "    * curve fits - even though your data fits a straight line, it is worth trying\n",
    "\n",
    "To distinguish your new fits from those in part 1, give your new fit coefficients names that match the fit type.  For instance, back in Part 1, I named my coefficients ```m``` and ```b```.  In this section, I named my polynomial fit coefficients ```m_poly```, ```b_poly```.\n",
    "\n",
    "### Your solution to Part 3:\n",
    "-----------------------------------------------------------------------------------------------"
   ]
  },
  {
   "cell_type": "markdown",
   "metadata": {},
   "source": [
    "#### Using polynomials"
   ]
  },
  {
   "cell_type": "markdown",
   "metadata": {},
   "source": [
    "##### b)\n",
    "Calculating the slope and intercept values using np functions"
   ]
  },
  {
   "cell_type": "code",
   "execution_count": 13,
   "metadata": {},
   "outputs": [
    {
     "name": "stdout",
     "output_type": "stream",
     "text": [
      "Slope: 4.08822735852e-15\n",
      "Intercept: -1.73123580398\n"
     ]
    }
   ],
   "source": [
    "import matplotlib.pyplot as plt\n",
    "import numpy as np\n",
    "%matplotlib inline\n",
    "\n",
    "fit_poly, cov_poly = np.polyfit (xValues, yValues, 1, cov=True)\n",
    "\n",
    "slope_poly = fit_poly[0]\n",
    "intercept_poly = fit_poly[1]\n",
    "\n",
    "print (\"Slope:\", slope_poly)\n",
    "print (\"Intercept:\", intercept_poly)"
   ]
  },
  {
   "cell_type": "markdown",
   "metadata": {},
   "source": [
    "##### c)\n",
    "Calculate variation values and print them on a line with the original data"
   ]
  },
  {
   "cell_type": "code",
   "execution_count": 14,
   "metadata": {},
   "outputs": [
    {
     "data": {
      "image/png": "[encoded data removed]",
      "text/plain": [
       "<matplotlib.figure.Figure at 0x7d95b70>"
      ]
     },
     "metadata": {},
     "output_type": "display_data"
    }
   ],
   "source": [
    "#initialize list for xVariation\n",
    "xVariation_poly = []\n",
    "\n",
    "#fill list for xVariation\n",
    "for x in xValues:\n",
    "    xVariation_poly.append (getXVariation (slope_poly, intercept_poly, x))\n",
    "\n",
    "plt.plot (xValues, yValues, \"k.\")\n",
    "plt.plot (xValues, xVariation_poly, \"k-\")\n",
    "plt.show ()"
   ]
  },
  {
   "cell_type": "markdown",
   "metadata": {},
   "source": [
    "#### Using Linear Regression"
   ]
  },
  {
   "cell_type": "markdown",
   "metadata": {},
   "source": [
    "##### b)"
   ]
  },
  {
   "cell_type": "code",
   "execution_count": 18,
   "metadata": {},
   "outputs": [
    {
     "name": "stdout",
     "output_type": "stream",
     "text": [
      "Slope: 4.08822735852e-15\n",
      "Intercept: -1.73123580398\n"
     ]
    }
   ],
   "source": [
    "from scipy.stats import linregress\n",
    "\n",
    "fit_linear_regression = linregress (xValues, yValues)\n",
    "\n",
    "slope_linreg = fit_linear_regression[0]\n",
    "intercept_linreg = fit_linear_regression[1]\n",
    "\n",
    "print (\"Slope:\", slope_linreg)\n",
    "print (\"Intercept:\", intercept_linreg)"
   ]
  },
  {
   "cell_type": "markdown",
   "metadata": {},
   "source": [
    "##### c)"
   ]
  },
  {
   "cell_type": "code",
   "execution_count": 20,
   "metadata": {},
   "outputs": [
    {
     "data": {
      "image/png": "[encoded data removed]",
      "text/plain": [
       "<matplotlib.figure.Figure at 0x8478630>"
      ]
     },
     "metadata": {},
     "output_type": "display_data"
    }
   ],
   "source": [
    "#initialize list for xVariation\n",
    "xVariation_linreg = []\n",
    "\n",
    "#fill list for xVariation\n",
    "for x in xValues:\n",
    "    xVariation_linreg.append (getXVariation (slope_linreg, intercept_linreg, x))\n",
    "\n",
    "plt.plot (xValues, yValues, \"k.\")\n",
    "plt.plot (xValues, xVariation_linreg, \"k-\")\n",
    "plt.show ()"
   ]
  },
  {
   "cell_type": "markdown",
   "metadata": {},
   "source": [
    "#### Curve Fit"
   ]
  },
  {
   "cell_type": "markdown",
   "metadata": {},
   "source": [
    "##### b)"
   ]
  },
  {
   "cell_type": "code",
   "execution_count": 23,
   "metadata": {},
   "outputs": [
    {
     "name": "stdout",
     "output_type": "stream",
     "text": [
      "Slope: 4.08822735807e-15\n",
      "Intercept -1.73123580361\n"
     ]
    }
   ],
   "source": [
    "from scipy.optimize import curve_fit\n",
    "\n",
    "def millikanFunc (x, slope, intercept):\n",
    "    return slope * x + intercept\n",
    "\n",
    "params_curve, cov_curve = curve_fit (millikanFunc, xValues, yValues)\n",
    "\n",
    "slope_curve = params_curve[0]\n",
    "intercept_curve = params_curve[1]\n",
    "\n",
    "print (\"Slope:\", slope_curve)\n",
    "print (\"Intercept\", intercept_curve)"
   ]
  },
  {
   "cell_type": "code",
   "execution_count": 24,
   "metadata": {},
   "outputs": [
    {
     "data": {
      "image/png": "[encoded data removed]",
      "text/plain": [
       "<matplotlib.figure.Figure at 0x84e6da0>"
      ]
     },
     "metadata": {},
     "output_type": "display_data"
    }
   ],
   "source": [
    "#initialize list for xVariation\n",
    "xVariation_curve = []\n",
    "\n",
    "#fill list for xVariation\n",
    "for x in xValues:\n",
    "    xVariation_curve.append (getXVariation (slope_curve, intercept_curve, x))\n",
    "\n",
    "plt.plot (xValues, yValues, \"k.\")\n",
    "plt.plot (xValues, xVariation_curve, \"k-\")\n",
    "plt.show ()"
   ]
  },
  {
   "cell_type": "markdown",
   "metadata": {},
   "source": [
    "## Part 4: Fitting Projectile Motion Data\n",
    "\n",
    "1.  Generate some 1D projectile motion data.  You are encouraged to use the function provided in Weekly Session 2. \n",
    "\n",
    "2. Add some \"noise\" to the data with a random variable. Plot the original function (without noise) and the noisy \"data\" with the scatter() function.  Use some of the tips/tricks on modifying scatter plots that are linked in Weekly Session 2.\n",
    "3. Note that you have two plots to make - $x$ vs. $t$ and $v$ vs. $t$. Use this [link](https://matplotlib.org/gallery/subplots_axes_and_figures/subplot.html#sphx-glr-gallery-subplots-axes-and-figures-subplot-py) to learn how to make subplots.\n",
    "\n",
    "4. Perform a curve fit to your noisy \"data\" and anaylze the error in the fit (i.e. the difference between the fit result and the original (noiseless) function. Compare the fit parameters to your original parameters using the standard deviation in the fit parameters. How close does the fit get to your original parameters? Repeat the analysis to generate new random data and compare again.\n",
    "\n",
    "### Your solution to Part 4:\n",
    "-----------------------------------------------------------------------------------------------"
   ]
  },
  {
   "cell_type": "code",
   "execution_count": 25,
   "metadata": {
    "collapsed": true
   },
   "outputs": [],
   "source": [
    "# function given to us\n",
    "\n",
    "# function to calculate the position and velocity for contant acceleration motion\n",
    "# inputs: time, acceleration, initial vel, initial pos\n",
    "# outputs: position, velocity\n",
    "def position(t, a, v_i=0, x_i=0):\n",
    "    x=x_i+v_i*t+0.5*a*t**2\n",
    "    v=v_i+a*t\n",
    "    return x,v"
   ]
  },
  {
   "cell_type": "markdown",
   "metadata": {},
   "source": [
    "#### 1)\n"
   ]
  },
  {
   "cell_type": "code",
   "execution_count": 51,
   "metadata": {
    "collapsed": true
   },
   "outputs": [],
   "source": [
    "\n",
    "timeValues = np.linspace (0, 20, 100)\n",
    "xValues, velocityValues = position (timeValues, -9.8, 100, 100)"
   ]
  },
  {
   "cell_type": "markdown",
   "metadata": {},
   "source": [
    "##### 2)"
   ]
  },
  {
   "cell_type": "code",
   "execution_count": 52,
   "metadata": {},
   "outputs": [
    {
     "data": {
      "image/png": "[encoded data removed]",
      "text/plain": [
       "<matplotlib.figure.Figure at 0x98da630>"
      ]
     },
     "metadata": {},
     "output_type": "display_data"
    }
   ],
   "source": [
    "import random\n",
    "\n",
    "randomVariation = 10\n",
    "xValues_noise = []\n",
    "\n",
    "for x in xValues:\n",
    "    xValues_noise.append (x + random.uniform (-randomVariation, randomVariation))\n",
    "\n",
    "plt.scatter (timeValues, xValues, color=\"black\")\n",
    "plt.scatter (timeValues, xValues_noise, color=\"green\")\n",
    "\n",
    "plt.show ()"
   ]
  },
  {
   "cell_type": "markdown",
   "metadata": {
    "collapsed": true
   },
   "source": [
    "## Post lab questions\n",
    "\n",
    "Describe briefly Millikan's experiment in your own words.  Be sure to explain these two main points.\n",
    "\n",
    "1.  What is $\\nu$, and why is it the independent variable in the experiment?  Did Millikan use $\\nu$ in the           visible, infrared, or ultraviolet spectrum?  Here is a [reference](http://hyperphysics.phy-astr.gsu.edu/hbase/ems3.html) for light energies.\n",
    "    \n",
    "2.  What does $V$ measure, and why is it the dependent variable in the experiment?  \n",
    "-----------------------------------------------------------------------------------------------"
   ]
  },
  {
   "cell_type": "markdown",
   "metadata": {},
   "source": [
    "## With any remaining time \n",
    "\n",
    "* Play with \"tricking out\" your plots using the matplotlib gallery - which is one of my favorite places on the interwebs. Click on the [link](https://matplotlib.org/gallery/lines_bars_and_markers/scatter_with_legend.html#sphx-glr-gallery-lines-bars-and-markers-scatter-with-legend-py) and use it as a guide to modify your scatter plot.  Once you're done with that, play with the markers as well - you can change their shape! [link](https://matplotlib.org/gallery/lines_bars_and_markers/scatter_symbol.html#sphx-glr-gallery-lines-bars-and-markers-scatter-symbol-py)\n",
    "\n",
    "* Work on HW6 - which includes finishing all of the exercises in Weekly Session 2"
   ]
  }
 ],
 "metadata": {
  "kernelspec": {
   "display_name": "Python 3",
   "language": "python",
   "name": "python3"
  },
  "language_info": {
   "codemirror_mode": {
    "name": "ipython",
    "version": 3
   },
   "file_extension": ".py",
   "mimetype": "text/x-python",
   "name": "python",
   "nbconvert_exporter": "python",
   "pygments_lexer": "ipython3",
   "version": "3.4.5"
  }
 },
 "nbformat": 4,
 "nbformat_minor": 1
}
