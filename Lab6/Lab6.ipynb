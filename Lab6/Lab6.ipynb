{
 "cells": [
  {
   "cell_type": "markdown",
   "metadata": {},
   "source": [
    "Professor advice:\n",
    "\n",
    "Take note of which int methods chose and why\n",
    "\n",
    "5.19 part e.2 is cancelled"
   ]
  },
  {
   "cell_type": "code",
   "execution_count": 31,
   "metadata": {
    "collapsed": true
   },
   "outputs": [],
   "source": [
    "import math\n",
    "import cmath\n",
    "import numpy as np\n",
    "import pylab as plt\n",
    "from scipy import integrate\n",
    "\n",
    "%matplotlib inline"
   ]
  },
  {
   "cell_type": "markdown",
   "metadata": {},
   "source": [
    "## 5.128970014"
   ]
  },
  {
   "cell_type": "markdown",
   "metadata": {},
   "source": [
    "### a) \n",
    "\n",
    "Show that\n",
    "\n",
    "$W = \\frac{k_B^4 T^4}{4\\pi^2 c^2 \\hbar^3} \\int^\\infty_0 \\frac{x^3}{(e^x - 1)} dx$\n",
    "\n",
    "is the total energy per unit area radiated by a black body given\n",
    "\n",
    "$I(\\omega) = \\frac{\\hbar}{4\\pi^2 c^2} \\frac{\\omega^3}{(e^{\\hbar \\omega / k_B T} - 1)}$\n",
    "\n",
    "with $I(\\omega) d\\omega$ being the thermal energy radiated per second for a black body of unit area and angular frequency of $\\omega$.\n",
    "\n",
    "\n",
    "\n",
    "Set\n",
    "\n",
    "$x = \\frac{\\hbar \\omega}{k_B T}$ $dx = \\frac{\\hbar}{k_B T} d\\omega$ meaning $\\omega = \\frac{k_B T x}{\\hbar}$\n",
    "\n",
    "then\n",
    "\n",
    "$W = \\int^\\infty_0 I(\\omega) d\\omega = \\int^\\infty_0 \\frac{\\hbar}{4\\pi^2 c^2} \\frac{k_B T}{\\hbar} \\frac{(\\frac{k_B T x}{\\hbar})^3}{e^x - 1} dx = \\frac{k_B^4 T^4}{4\\hbar^3 \\pi^2 c^2} \\int^\\infty_0 \\frac{x^3}{e^x - 1} dx$"
   ]
  },
  {
   "cell_type": "markdown",
   "metadata": {},
   "source": [
    "### b)"
   ]
  },
  {
   "cell_type": "code",
   "execution_count": 14,
   "metadata": {
    "collapsed": true
   },
   "outputs": [],
   "source": [
    "def blackBodyEnergy (temperature):\n",
    "    \"\"\"\n",
    "    Description: Returns the total energy per unit area of a radiating black body at the given temperature\n",
    "    \n",
    "    Parameters: temperature - temperature for calculation\n",
    "    \n",
    "    Returned: energy radiated by black body per unit area \n",
    "    \"\"\"\n",
    "    \n",
    "    def blackBodyEnergyIntegrand (xValue):\n",
    "        \"\"\"\n",
    "        Description: Returns the integrand for the energy calculation\n",
    "        \n",
    "        Parameters: xValue - independant variable at which function is being calculated\n",
    "        \n",
    "        Returned: the integrand value evaluated at the given xValue\n",
    "        \"\"\"\n",
    "        return xValue**3 * math.exp (-xValue) / (1 - math.exp (-xValue))\n",
    "    \n",
    "    boltzmannsConst = 1.38064852e-23 #m^2 kg s^-2 K^-1\n",
    "    speedOfLight = 2.9979e8 #m s^-1\n",
    "    hbar = 1.054572e-34 #m^2 kg s^-1\n",
    "    numSamplePoints = 100\n",
    "    \n",
    "    x1 = 0\n",
    "    x2 = np.inf\n",
    "    integral, error = integrate.quad (blackBodyEnergyIntegrand, x1, x2)\n",
    "    \n",
    "    return integral * boltzmannsConst**4 * temperature**4 / (4 * math.pi**2 * speedOfLight**2 * hbar**3), error\n",
    "\n"
   ]
  },
  {
   "cell_type": "markdown",
   "metadata": {},
   "source": [
    "I chose the gaussian quadrate integration method because this is a well behaved smooth integrand."
   ]
  },
  {
   "cell_type": "code",
   "execution_count": 19,
   "metadata": {},
   "outputs": [
    {
     "name": "stdout",
     "output_type": "stream",
     "text": [
      "W-value for the sun: 63201615.43789831 J per unit area\n",
      "Error in W-value: 2.6284714908361187e-09 J per unit area\n",
      "Calculated Stefan-Boltzmann's constant: 5.6704565759935693e-08 kg m^2/s^2 K^4\n",
      "Known Stefan-Boltzmann's constant: 5.67036e-8 W/m^2 K^4\n"
     ]
    }
   ],
   "source": [
    "temperatureOfSun = 5778 #kelvin\n",
    "energyOfSun, energyOfSunError = blackBodyEnergy (temperatureOfSun)\n",
    "stefanBoltzmannConst = energyOfSun / temperatureOfSun**4\n",
    "\n",
    "print (\"W-value for the sun:\", energyOfSun, \"J per unit area\")\n",
    "print (\"Error in W-value:\", energyOfSunError, \"J per unit area\")\n",
    "print (\"Calculated Stefan-Boltzmann's constant:\", stefanBoltzmannConst, \"kg m^2/s^2 K^4\")\n",
    "print (\"Known Stefan-Boltzmann's constant: 5.67036e-8 W/m^2 K^4\")"
   ]
  },
  {
   "cell_type": "markdown",
   "metadata": {},
   "source": [
    "\n",
    "## Some notes on Newman's 5.19 - Diffraction Gratings\n",
    "$w =$ the distance along the diffraction grating itself note that you will need a separate parameter for the screen width\n",
    "\n",
    "$u =$ the distance up and down the diffraction grating itself. You integrate along it to find all of the light coming from the diffraction grating.\n",
    "\n",
    "$x =$ distance along the SCREEN where the pattern is created (like the one in Newman) –\n",
    "\n",
    "$q(u) =$ geometrical weight that takes into account superposition of light rays.\n",
    "\n",
    "You could derive $q(u)$ with calculus (if someone hasn’t given it to you). Basically if you have a grating, you treat each opening like an individual point of light and calculate the pattern that will form on a distant screen – it makes a pattern since geometrically different light rays have different lengths, so they arrive at different phases – that may add or cancel depending on the length of each ray. I write about this in detail in Lab 4 solutions if you want to have a peak.\n",
    "\n",
    "While it is fine to accept the value given as $q(u) = sin^2(\\alpha u)$, you’re correct that doesn’t help you answer (a) where you want to find the spacing of the grating. For this, you can go look at an optics book, or you can be sneaky and back it out using a little logic/calculus/magic:\n",
    "\n",
    "Notice that the function q(u) has zeros, $z$, find an expression for $z$ in terms of $\\alpha$ (use trig here!!! There will be a $\\pi$ in your answer).\n",
    "These $z$ values are special cases of u that have the same periodicity as the geometrical pattern $q(u)$. So find the spacing between two z values, and you have found the slit separation\n",
    "Since the spacing is a geometrical quantity that a machinist might make, you can take the spacing to be the independent variable and calculate $\\alpha$ from it.\n",
    "So you have to loop over all your $x-$values, and for each $x-$value add up all of the light coming from the entire diffraction grating. That is the picture Newman has given you – it shows all of the light hitting one particular $x-$value, but imagine the rest of the x-values having a similar picture, arising from a different set of light rays emanating from the diffraction grating."
   ]
  },
  {
   "cell_type": "markdown",
   "metadata": {},
   "source": [
    "### a)\n",
    "\n",
    "The seperation of the the \"slits\" are given by $z=\\frac{\\pi}{a}$."
   ]
  },
  {
   "cell_type": "markdown",
   "metadata": {},
   "source": [
    "### b)"
   ]
  },
  {
   "cell_type": "code",
   "execution_count": 48,
   "metadata": {
    "collapsed": true
   },
   "outputs": [],
   "source": [
    "def q(u):\n",
    "    \"\"\"\n",
    "    Description: Returns the transmission function given by sin^2 (\\alpha * u)\n",
    "    \n",
    "    Parameters: u - independant variable at which function is being evaluated at\n",
    "    \n",
    "    Returned: returns the transmission function at the given u-value\n",
    "    \"\"\"\n",
    "    alpha = spacing ()\n",
    "    return math.sin (alpha * u)**2    \n",
    "\n",
    "def spacing ():\n",
    "    seperation = 20e-6 # metres\n",
    "    return math.pi / seperation # metres^-1"
   ]
  },
  {
   "cell_type": "code",
   "execution_count": 56,
   "metadata": {
    "collapsed": true
   },
   "outputs": [],
   "source": [
    "def intensityDiffractionPattern (qFunc):\n",
    "    wavelength = 500e-9 # m\n",
    "    focalLength = 1 # m\n",
    "    screenWidth = 0.1 # m\n",
    "    numSlits = 10\n",
    "    u1 = -200e-6 / 2\n",
    "    u2 = 200e-6 / 2\n",
    "        \n",
    "    numSamplePoints = 1000\n",
    "    xValues = np.linspace (-screenWidth / 2, screenWidth / 2, numSamplePoints)\n",
    "    intensityValues = []\n",
    "    \n",
    "    def integrand (uValue, xValue):\n",
    "        return math.sqrt (qFunc(uValue)) * cmath.exp (complex (0, 2 * cmath.pi * xValue * uValue / (wavelength) * focalLength))\n",
    "    \n",
    "    def simpson (func, xValue, numSteps, u1, u2):\n",
    "        h = (u2 - u1) / numSteps\n",
    "        sum = func (u1, xValue) + func (u2, xValue)\n",
    "\n",
    "        for i in range (int (numSteps / 2)):\n",
    "            sum += 4 * func (u1 + (2 * i - 1) * h, xValue) #odd terms\n",
    "            sum += 2 * func (u1 + 2 * i * h, xValue) #even terms\n",
    "        return sum * h / 3\n",
    "    \n",
    "    for x in xValues:\n",
    "        intensityValues.append (abs (simpson (integrand, x, numSamplePoints, u1, u2))**2)\n",
    "    \n",
    "    return xValues, intensityValues\n",
    "    \n"
   ]
  },
  {
   "cell_type": "markdown",
   "metadata": {},
   "source": [
    "**graph**"
   ]
  },
  {
   "cell_type": "code",
   "execution_count": 60,
   "metadata": {
    "collapsed": true
   },
   "outputs": [],
   "source": [
    "xValues, intensityValues = intensityDiffractionPattern(q)"
   ]
  },
  {
   "cell_type": "code",
   "execution_count": 61,
   "metadata": {},
   "outputs": [
    {
     "data": {
      "image/png": "[encoded data removed]",
      "text/plain": [
       "<matplotlib.figure.Figure at 0x95b3c50>"
      ]
     },
     "metadata": {},
     "output_type": "display_data"
    }
   ],
   "source": [
    "plt.title (\"Diffraction Pattern Intensity\")\n",
    "plt.xlabel (\"Screen x-position (m)\")\n",
    "plt.ylabel (r\"Intensity (J/$m^2$)\")\n",
    "plt.plot (xValues, intensityValues)\n",
    "plt.show ()"
   ]
  },
  {
   "cell_type": "markdown",
   "metadata": {},
   "source": [
    "### e)"
   ]
  },
  {
   "cell_type": "code",
   "execution_count": 58,
   "metadata": {
    "collapsed": true
   },
   "outputs": [],
   "source": [
    "def q2(u):\n",
    "    \"\"\"\n",
    "    Description: Returns the transmission function given by sin^2 (\\alpha * u) * sin^2 (\\beta * u)\n",
    "    \n",
    "    Parameters: u - independant variable at which function is being evaluated at\n",
    "    \n",
    "    Returned: returns the transmission function at the given u-value\n",
    "    \"\"\"\n",
    "    alpha = spacing ()\n",
    "    beta = alpha / 2\n",
    "    return math.sin (alpha * u)**2 * math.sin (beta * u)**2"
   ]
  },
  {
   "cell_type": "code",
   "execution_count": 62,
   "metadata": {
    "collapsed": true
   },
   "outputs": [],
   "source": [
    "xValues, intensityValues = intensityDiffractionPattern(q2)"
   ]
  },
  {
   "cell_type": "code",
   "execution_count": 63,
   "metadata": {},
   "outputs": [
    {
     "data": {
      "image/png": "[encoded data removed]",
      "text/plain": [
       "<matplotlib.figure.Figure at 0x945ab00>"
      ]
     },
     "metadata": {},
     "output_type": "display_data"
    }
   ],
   "source": [
    "plt.title (\"Diffraction Pattern Intensity\")\n",
    "plt.xlabel (\"Screen x-position (m)\")\n",
    "plt.ylabel (r\"Intensity (J/$m^2$)\")\n",
    "plt.plot (xValues, intensityValues)\n",
    "plt.show ()"
   ]
  },
  {
   "cell_type": "code",
   "execution_count": null,
   "metadata": {
    "collapsed": true
   },
   "outputs": [],
   "source": []
  }
 ],
 "metadata": {
  "kernelspec": {
   "display_name": "Python 3",
   "language": "python",
   "name": "python3"
  },
  "language_info": {
   "codemirror_mode": {
    "name": "ipython",
    "version": 3
   },
   "file_extension": ".py",
   "mimetype": "text/x-python",
   "name": "python",
   "nbconvert_exporter": "python",
   "pygments_lexer": "ipython3",
   "version": "3.4.5"
  }
 },
 "nbformat": 4,
 "nbformat_minor": 1
}
