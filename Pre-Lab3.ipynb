{
 "cells": [
  {
   "cell_type": "code",
   "execution_count": 2,
   "metadata": {
    "collapsed": true
   },
   "outputs": [],
   "source": [
    "import numpy as np\n",
    "\n",
    "\"\"\"\n",
    "Description: Calculates the number of of items remaining based upon a decay constant and an exponential decay model.\n",
    "\n",
    "Parameters: NInitial - initial number of items\n",
    "            decayConstant - decay constant\n",
    "            time - amount of time since arbitrary starting point\n",
    "\n",
    "Return: Returns the remaining number of items based upon the exponential decay model.\n",
    "\"\"\"\n",
    "def numNucleiLeftExact (NInitial, decayConst, time):\n",
    "    return NInitial * np.exp (-decayConst * time)\n"
   ]
  },
  {
   "cell_type": "code",
   "execution_count": 3,
   "metadata": {},
   "outputs": [],
   "source": [
    "\"\"\"\n",
    "Description: Calculates the number of of items remaining based upon a decay constant and an exponential decay model.\n",
    "\n",
    "Parameters: NInitial - initial number of items\n",
    "            decayConstant - decay constant\n",
    "            time - amount of time since arbitrary starting point\n",
    "\n",
    "Return: Returns the remaining number of items based upon the exponential decay model.\n",
    "\"\"\"\n",
    "def numNucleiLeftApprox (NInitial, decayConst, time):\n",
    "    return\n",
    "    #I do not understand the formula\n",
    "    "
   ]
  },
  {
   "cell_type": "code",
   "execution_count": 14,
   "metadata": {},
   "outputs": [
    {
     "data": {
      "image/png": "[encoded data removed]",
      "text/plain": [
       "<matplotlib.figure.Figure at 0x8fc09e8>"
      ]
     },
     "metadata": {},
     "output_type": "display_data"
    }
   ],
   "source": [
    "import pylab as plt\n",
    "\n",
    "timeValues = np.linspace (0, 100)\n",
    "nucleiValues = []\n",
    "nucleiInitial = 1000\n",
    "decayConstant = .04\n",
    "\n",
    "xLabel = \"Nuclei\"\n",
    "yLabel = \"Time\"\n",
    "graphTitle = \"Nuclei Remaining\"\n",
    "\n",
    "for t in timeValues:\n",
    "    nucleiValues.append (numNucleiLeftExact (nucleiInitial, decayConstant, t))\n",
    "\n",
    "#plot the data\n",
    "plt.plot (timeValues, nucleiValues, \"k.\")\n",
    "plt.title (graphTitle)\n",
    "plt.xlabel (xLabel)\n",
    "plt.ylabel (yLabel)\n",
    "\n",
    "plt.show ()"
   ]
  },
  {
   "cell_type": "code",
   "execution_count": null,
   "metadata": {
    "collapsed": true
   },
   "outputs": [],
   "source": []
  }
 ],
 "metadata": {
  "kernelspec": {
   "display_name": "Python 3",
   "language": "python",
   "name": "python3"
  },
  "language_info": {
   "codemirror_mode": {
    "name": "ipython",
    "version": 3
   },
   "file_extension": ".py",
   "mimetype": "text/x-python",
   "name": "python",
   "nbconvert_exporter": "python",
   "pygments_lexer": "ipython3",
   "version": "3.6.3"
  }
 },
 "nbformat": 4,
 "nbformat_minor": 2
}
